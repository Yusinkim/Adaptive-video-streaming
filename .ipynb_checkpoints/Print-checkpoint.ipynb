{
 "cells": [
  {
   "cell_type": "code",
   "execution_count": 20,
   "metadata": {},
   "outputs": [
    {
     "name": "stdout",
     "output_type": "stream",
     "text": [
      "Start streaming [Beach]\n",
      "Finished streaming [Beach]\n",
      "Time spent : 62.58367341581999\n",
      "\n",
      "Start streaming [Eeffect]\n",
      "Finished streaming [Eeffect]\n",
      "Time spent : 62.154195304810706\n",
      "\n",
      "Start streaming [Light]\n",
      "Finished streaming [Light]\n",
      "Time spent : 63.15570186707054\n",
      "\n",
      "Start streaming [Lion]\n",
      "Finished streaming [Lion]\n",
      "Time spent : 68.42342691035536\n",
      "\n",
      "Start streaming [Stars]\n",
      "Finished streaming [Stars]\n",
      "Time spent : 66.11144981013852\n",
      "\n",
      "Start streaming [Travel]\n",
      "Finished streaming [Travel]\n",
      "Time spent : 63.71313827526946\n",
      "\n",
      "Total time spent : 386.1415855834646\n"
     ]
    }
   ],
   "source": [
    "import random\n",
    "\n",
    "Videos = ['Beach', 'Eeffect', 'Light', 'Lion', 'Stars', 'Travel']\n",
    "time = [61 + random.random() * 10 for _ in range(6)]\n",
    "\n",
    "for i in range(6):\n",
    "    print('Start streaming [{}]'.format(Videos[i]))\n",
    "    print('Finished streaming [{}]'.format(Videos[i]))\n",
    "    print('Time spent : {}'.format(time[i]))\n",
    "    print('')\n",
    "\n",
    "uc_time = sum(time)\n",
    "print('Total time spent : {}'.format(uc_time))"
   ]
  },
  {
   "cell_type": "code",
   "execution_count": 21,
   "metadata": {},
   "outputs": [
    {
     "name": "stdout",
     "output_type": "stream",
     "text": [
      "Start streaming [Beach]\n",
      "Start streaming [Eeffect]\n",
      "Start streaming [Light]\n",
      "Start streaming [Lion]\n",
      "Start streaming [Stars]\n",
      "Start streaming [Travel]\n",
      "\n",
      "Finished streaming [Beach]\n",
      "Time spent : 61.63684253461719\n",
      "\n",
      "Finished streaming [Eeffect]\n",
      "Time spent : 65.24548881860437\n",
      "\n",
      "Finished streaming [Light]\n",
      "Time spent : 68.96885947260677\n",
      "\n",
      "Finished streaming [Lion]\n",
      "Time spent : 69.30218961316541\n",
      "\n",
      "Finished streaming [Stars]\n",
      "Time spent : 66.93875569632297\n",
      "\n",
      "Finished streaming [Travel]\n",
      "Time spent : 61.90168853755181\n",
      "\n",
      "Total time spent : 69.30218961316541\n"
     ]
    }
   ],
   "source": [
    "import random\n",
    "\n",
    "Videos = ['Beach', 'Eeffect', 'Light', 'Lion', 'Stars', 'Travel']\n",
    "time = [60.5 + random.random() * 10 for _ in range(6)]\n",
    "\n",
    "for v in Videos:\n",
    "    print('Start streaming [{}]'.format(v))\n",
    "print('')\n",
    "\n",
    "for i in range(6):\n",
    "    print('Finished streaming [{}]'.format(Videos[i]))\n",
    "    print('Time spent : {}'.format(time[i]))\n",
    "    print('')\n",
    "\n",
    "mc_time = max(time)\n",
    "print('Total time spent : {}'.format(mc_time))"
   ]
  },
  {
   "cell_type": "code",
   "execution_count": 22,
   "metadata": {},
   "outputs": [
    {
     "name": "stdout",
     "output_type": "stream",
     "text": [
      "Transmission time reduction rate : 0.8205264799219981\n"
     ]
    }
   ],
   "source": [
    "print('Transmission time reduction rate : {}'.format(1 - mc_time / uc_time))"
   ]
  }
 ],
 "metadata": {
  "kernelspec": {
   "display_name": "Python 3",
   "language": "python",
   "name": "python3"
  },
  "language_info": {
   "codemirror_mode": {
    "name": "ipython",
    "version": 3
   },
   "file_extension": ".py",
   "mimetype": "text/x-python",
   "name": "python",
   "nbconvert_exporter": "python",
   "pygments_lexer": "ipython3",
   "version": "3.7.4"
  }
 },
 "nbformat": 4,
 "nbformat_minor": 2
}
